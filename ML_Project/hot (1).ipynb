{
 "cells": [
  {
   "cell_type": "code",
   "execution_count": null,
   "metadata": {},
   "outputs": [],
   "source": [
    "\n",
    "\n",
    "import os\n",
    "import requests\n",
    "import numpy as np\n",
    "import pandas as pd\n",
    "import tensorflow as tf\n",
    "import matplotlib.pyplot as plt\n",
    "\n",
    "from io import BytesIO\n",
    "from PIL import Image, ImageTk\n",
    "import tkinter as tk\n",
    "from tkinter import filedialog, messagebox\n",
    "\n",
    "# Keras imports\n",
    "from tensorflow.keras.preprocessing.image import ImageDataGenerator, load_img, img_to_array\n",
    "from tensorflow.keras.applications import MobileNetV2\n",
    "from tensorflow.keras.models import Model, load_model\n",
    "from tensorflow.keras.callbacks import EarlyStopping, ModelCheckpoint, ReduceLROnPlateau\n",
    "from tensorflow.keras.optimizers import Adam\n",
    "from tensorflow.keras.losses import CategoricalCrossentropy\n",
    "\n",
    "# Paths & parameters\n",
    "CSV_PATH = r\"C:\\Users\\akash\\OneDrive\\Desktop\\coding AP\\ML_Pro\\artists.csv\"\n",
    "DATA_DIR = r\"C:\\Users\\akash\\OneDrive\\Desktop\\coding AP\\ML_Pro\\resized\\resized\"\n",
    "IMG_SIZE = (224, 224)\n",
    "BATCH_SIZE = 32\n",
    "NUM_CLASSES = 39\n",
    "\n",
    "INITIAL_EPOCHS = 10\n",
    "FINE_TUNE_EPOCHS = 10\n",
    "TOTAL_EPOCHS = INITIAL_EPOCHS + FINE_TUNE_EPOCHS\n"
   ]
  },
  {
   "cell_type": "code",
   "execution_count": 2,
   "metadata": {},
   "outputs": [
    {
     "name": "stdout",
     "output_type": "stream",
     "text": [
      "Total artists in CSV: 50\n",
      "Warning: Folder structure doesn't match CSV entries\n",
      "Missing folders: {'Caravaggio', 'Georges Seurat', 'Eugene Delacroix', 'Diego Velazquez', 'Jackson Pollock', 'Raphael', 'Paul Cezanne', 'Michelangelo', 'Albrecht Dürer', 'Rembrandt', 'Titian'}\n",
      "Found 5709 images belonging to 39 classes.\n",
      "Found 1405 images belonging to 39 classes.\n"
     ]
    }
   ],
   "source": [
    "# Load CSV metadata\n",
    "artists_df = pd.read_csv(CSV_PATH)\n",
    "print(f\"Total artists in CSV: {len(artists_df)}\")\n",
    "\n",
    "# Verify folder structure\n",
    "folder_artists = set(os.listdir(DATA_DIR))\n",
    "csv_artists = set(artists_df['name'])\n",
    "if folder_artists != csv_artists:\n",
    "    print(\"Warning: Folder structure doesn't match CSV entries\")\n",
    "    print(\"Missing folders:\", csv_artists - folder_artists)\n",
    "else:\n",
    "    print(\"✅ Folder structure verified\")\n",
    "\n",
    "# Create data generators\n",
    "train_datagen = ImageDataGenerator(\n",
    "    rescale=1./255,\n",
    "    validation_split=0.2,\n",
    "    rotation_range=20,\n",
    "    width_shift_range=0.1,\n",
    "    height_shift_range=0.1,\n",
    "    horizontal_flip=True,\n",
    "    zoom_range=0.2\n",
    ")\n",
    "\n",
    "train_generator = train_datagen.flow_from_directory(\n",
    "    DATA_DIR,\n",
    "    target_size=IMG_SIZE,\n",
    "    batch_size=BATCH_SIZE,\n",
    "    class_mode='categorical',\n",
    "    subset='training'\n",
    ")\n",
    "\n",
    "val_generator = train_datagen.flow_from_directory(\n",
    "    DATA_DIR,\n",
    "    target_size=IMG_SIZE,\n",
    "    batch_size=BATCH_SIZE,\n",
    "    class_mode='categorical',\n",
    "    subset='validation'\n",
    ")\n"
   ]
  },
  {
   "cell_type": "code",
   "execution_count": 3,
   "metadata": {},
   "outputs": [
    {
     "data": {
      "text/html": [
       "<pre style=\"white-space:pre;overflow-x:auto;line-height:normal;font-family:Menlo,'DejaVu Sans Mono',consolas,'Courier New',monospace\"><span style=\"font-weight: bold\">Model: \"functional\"</span>\n",
       "</pre>\n"
      ],
      "text/plain": [
       "\u001b[1mModel: \"functional\"\u001b[0m\n"
      ]
     },
     "metadata": {},
     "output_type": "display_data"
    },
    {
     "data": {
      "text/html": [
       "<pre style=\"white-space:pre;overflow-x:auto;line-height:normal;font-family:Menlo,'DejaVu Sans Mono',consolas,'Courier New',monospace\">┏━━━━━━━━━━━━━━━━━━━━━━━━━━━━━━━━━┳━━━━━━━━━━━━━━━━━━━━━━━━┳━━━━━━━━━━━━━━━┓\n",
       "┃<span style=\"font-weight: bold\"> Layer (type)                    </span>┃<span style=\"font-weight: bold\"> Output Shape           </span>┃<span style=\"font-weight: bold\">       Param # </span>┃\n",
       "┡━━━━━━━━━━━━━━━━━━━━━━━━━━━━━━━━━╇━━━━━━━━━━━━━━━━━━━━━━━━╇━━━━━━━━━━━━━━━┩\n",
       "│ input_layer_1 (<span style=\"color: #0087ff; text-decoration-color: #0087ff\">InputLayer</span>)      │ (<span style=\"color: #00d7ff; text-decoration-color: #00d7ff\">None</span>, <span style=\"color: #00af00; text-decoration-color: #00af00\">224</span>, <span style=\"color: #00af00; text-decoration-color: #00af00\">224</span>, <span style=\"color: #00af00; text-decoration-color: #00af00\">3</span>)    │             <span style=\"color: #00af00; text-decoration-color: #00af00\">0</span> │\n",
       "├─────────────────────────────────┼────────────────────────┼───────────────┤\n",
       "│ mobilenetv2_1.00_224            │ (<span style=\"color: #00d7ff; text-decoration-color: #00d7ff\">None</span>, <span style=\"color: #00af00; text-decoration-color: #00af00\">7</span>, <span style=\"color: #00af00; text-decoration-color: #00af00\">7</span>, <span style=\"color: #00af00; text-decoration-color: #00af00\">1280</span>)     │     <span style=\"color: #00af00; text-decoration-color: #00af00\">2,257,984</span> │\n",
       "│ (<span style=\"color: #0087ff; text-decoration-color: #0087ff\">Functional</span>)                    │                        │               │\n",
       "├─────────────────────────────────┼────────────────────────┼───────────────┤\n",
       "│ global_average_pooling2d        │ (<span style=\"color: #00d7ff; text-decoration-color: #00d7ff\">None</span>, <span style=\"color: #00af00; text-decoration-color: #00af00\">1280</span>)           │             <span style=\"color: #00af00; text-decoration-color: #00af00\">0</span> │\n",
       "│ (<span style=\"color: #0087ff; text-decoration-color: #0087ff\">GlobalAveragePooling2D</span>)        │                        │               │\n",
       "├─────────────────────────────────┼────────────────────────┼───────────────┤\n",
       "│ dense (<span style=\"color: #0087ff; text-decoration-color: #0087ff\">Dense</span>)                   │ (<span style=\"color: #00d7ff; text-decoration-color: #00d7ff\">None</span>, <span style=\"color: #00af00; text-decoration-color: #00af00\">256</span>)            │       <span style=\"color: #00af00; text-decoration-color: #00af00\">327,936</span> │\n",
       "├─────────────────────────────────┼────────────────────────┼───────────────┤\n",
       "│ dropout (<span style=\"color: #0087ff; text-decoration-color: #0087ff\">Dropout</span>)               │ (<span style=\"color: #00d7ff; text-decoration-color: #00d7ff\">None</span>, <span style=\"color: #00af00; text-decoration-color: #00af00\">256</span>)            │             <span style=\"color: #00af00; text-decoration-color: #00af00\">0</span> │\n",
       "├─────────────────────────────────┼────────────────────────┼───────────────┤\n",
       "│ dense_1 (<span style=\"color: #0087ff; text-decoration-color: #0087ff\">Dense</span>)                 │ (<span style=\"color: #00d7ff; text-decoration-color: #00d7ff\">None</span>, <span style=\"color: #00af00; text-decoration-color: #00af00\">39</span>)             │        <span style=\"color: #00af00; text-decoration-color: #00af00\">10,023</span> │\n",
       "└─────────────────────────────────┴────────────────────────┴───────────────┘\n",
       "</pre>\n"
      ],
      "text/plain": [
       "┏━━━━━━━━━━━━━━━━━━━━━━━━━━━━━━━━━┳━━━━━━━━━━━━━━━━━━━━━━━━┳━━━━━━━━━━━━━━━┓\n",
       "┃\u001b[1m \u001b[0m\u001b[1mLayer (type)                   \u001b[0m\u001b[1m \u001b[0m┃\u001b[1m \u001b[0m\u001b[1mOutput Shape          \u001b[0m\u001b[1m \u001b[0m┃\u001b[1m \u001b[0m\u001b[1m      Param #\u001b[0m\u001b[1m \u001b[0m┃\n",
       "┡━━━━━━━━━━━━━━━━━━━━━━━━━━━━━━━━━╇━━━━━━━━━━━━━━━━━━━━━━━━╇━━━━━━━━━━━━━━━┩\n",
       "│ input_layer_1 (\u001b[38;5;33mInputLayer\u001b[0m)      │ (\u001b[38;5;45mNone\u001b[0m, \u001b[38;5;34m224\u001b[0m, \u001b[38;5;34m224\u001b[0m, \u001b[38;5;34m3\u001b[0m)    │             \u001b[38;5;34m0\u001b[0m │\n",
       "├─────────────────────────────────┼────────────────────────┼───────────────┤\n",
       "│ mobilenetv2_1.00_224            │ (\u001b[38;5;45mNone\u001b[0m, \u001b[38;5;34m7\u001b[0m, \u001b[38;5;34m7\u001b[0m, \u001b[38;5;34m1280\u001b[0m)     │     \u001b[38;5;34m2,257,984\u001b[0m │\n",
       "│ (\u001b[38;5;33mFunctional\u001b[0m)                    │                        │               │\n",
       "├─────────────────────────────────┼────────────────────────┼───────────────┤\n",
       "│ global_average_pooling2d        │ (\u001b[38;5;45mNone\u001b[0m, \u001b[38;5;34m1280\u001b[0m)           │             \u001b[38;5;34m0\u001b[0m │\n",
       "│ (\u001b[38;5;33mGlobalAveragePooling2D\u001b[0m)        │                        │               │\n",
       "├─────────────────────────────────┼────────────────────────┼───────────────┤\n",
       "│ dense (\u001b[38;5;33mDense\u001b[0m)                   │ (\u001b[38;5;45mNone\u001b[0m, \u001b[38;5;34m256\u001b[0m)            │       \u001b[38;5;34m327,936\u001b[0m │\n",
       "├─────────────────────────────────┼────────────────────────┼───────────────┤\n",
       "│ dropout (\u001b[38;5;33mDropout\u001b[0m)               │ (\u001b[38;5;45mNone\u001b[0m, \u001b[38;5;34m256\u001b[0m)            │             \u001b[38;5;34m0\u001b[0m │\n",
       "├─────────────────────────────────┼────────────────────────┼───────────────┤\n",
       "│ dense_1 (\u001b[38;5;33mDense\u001b[0m)                 │ (\u001b[38;5;45mNone\u001b[0m, \u001b[38;5;34m39\u001b[0m)             │        \u001b[38;5;34m10,023\u001b[0m │\n",
       "└─────────────────────────────────┴────────────────────────┴───────────────┘\n"
      ]
     },
     "metadata": {},
     "output_type": "display_data"
    },
    {
     "data": {
      "text/html": [
       "<pre style=\"white-space:pre;overflow-x:auto;line-height:normal;font-family:Menlo,'DejaVu Sans Mono',consolas,'Courier New',monospace\"><span style=\"font-weight: bold\"> Total params: </span><span style=\"color: #00af00; text-decoration-color: #00af00\">2,595,943</span> (9.90 MB)\n",
       "</pre>\n"
      ],
      "text/plain": [
       "\u001b[1m Total params: \u001b[0m\u001b[38;5;34m2,595,943\u001b[0m (9.90 MB)\n"
      ]
     },
     "metadata": {},
     "output_type": "display_data"
    },
    {
     "data": {
      "text/html": [
       "<pre style=\"white-space:pre;overflow-x:auto;line-height:normal;font-family:Menlo,'DejaVu Sans Mono',consolas,'Courier New',monospace\"><span style=\"font-weight: bold\"> Trainable params: </span><span style=\"color: #00af00; text-decoration-color: #00af00\">337,959</span> (1.29 MB)\n",
       "</pre>\n"
      ],
      "text/plain": [
       "\u001b[1m Trainable params: \u001b[0m\u001b[38;5;34m337,959\u001b[0m (1.29 MB)\n"
      ]
     },
     "metadata": {},
     "output_type": "display_data"
    },
    {
     "data": {
      "text/html": [
       "<pre style=\"white-space:pre;overflow-x:auto;line-height:normal;font-family:Menlo,'DejaVu Sans Mono',consolas,'Courier New',monospace\"><span style=\"font-weight: bold\"> Non-trainable params: </span><span style=\"color: #00af00; text-decoration-color: #00af00\">2,257,984</span> (8.61 MB)\n",
       "</pre>\n"
      ],
      "text/plain": [
       "\u001b[1m Non-trainable params: \u001b[0m\u001b[38;5;34m2,257,984\u001b[0m (8.61 MB)\n"
      ]
     },
     "metadata": {},
     "output_type": "display_data"
    }
   ],
   "source": [
    "def create_model():\n",
    "    base_model = MobileNetV2(\n",
    "        input_shape=(IMG_SIZE[0], IMG_SIZE[1], 3),\n",
    "        include_top=False,\n",
    "        weights='imagenet'\n",
    "    )\n",
    "    base_model.trainable = False  # Freeze base initially\n",
    "\n",
    "    inputs = tf.keras.Input(shape=(IMG_SIZE[0], IMG_SIZE[1], 3))\n",
    "    x = base_model(inputs, training=False)\n",
    "    x = tf.keras.layers.GlobalAveragePooling2D()(x)\n",
    "    x = tf.keras.layers.Dense(256, activation='relu')(x)\n",
    "    x = tf.keras.layers.Dropout(0.3)(x)\n",
    "    outputs = tf.keras.layers.Dense(NUM_CLASSES, activation='softmax')(x)\n",
    "\n",
    "    model = Model(inputs, outputs)\n",
    "    model.compile(\n",
    "        optimizer=Adam(learning_rate=0.001),\n",
    "        loss=CategoricalCrossentropy(),\n",
    "        metrics=['accuracy']\n",
    "    )\n",
    "    return model\n",
    "\n",
    "model = create_model()\n",
    "model.summary()\n"
   ]
  },
  {
   "cell_type": "code",
   "execution_count": 4,
   "metadata": {},
   "outputs": [
    {
     "name": "stderr",
     "output_type": "stream",
     "text": [
      "C:\\Users\\akash\\AppData\\Roaming\\Python\\Python312\\site-packages\\keras\\src\\trainers\\data_adapters\\py_dataset_adapter.py:121: UserWarning: Your `PyDataset` class should call `super().__init__(**kwargs)` in its constructor. `**kwargs` can include `workers`, `use_multiprocessing`, `max_queue_size`. Do not pass these arguments to `fit()`, as they will be ignored.\n",
      "  self._warn_if_super_not_called()\n"
     ]
    },
    {
     "name": "stdout",
     "output_type": "stream",
     "text": [
      "Epoch 1/10\n",
      "\u001b[1m179/179\u001b[0m \u001b[32m━━━━━━━━━━━━━━━━━━━━\u001b[0m\u001b[37m\u001b[0m \u001b[1m170s\u001b[0m 932ms/step - accuracy: 0.2251 - loss: 3.0819 - val_accuracy: 0.4754 - val_loss: 1.9295 - learning_rate: 0.0010\n",
      "Epoch 2/10\n",
      "\u001b[1m179/179\u001b[0m \u001b[32m━━━━━━━━━━━━━━━━━━━━\u001b[0m\u001b[37m\u001b[0m \u001b[1m235s\u001b[0m 1s/step - accuracy: 0.4705 - loss: 1.9341 - val_accuracy: 0.5367 - val_loss: 1.7177 - learning_rate: 0.0010\n",
      "Epoch 3/10\n",
      "\u001b[1m179/179\u001b[0m \u001b[32m━━━━━━━━━━━━━━━━━━━━\u001b[0m\u001b[37m\u001b[0m \u001b[1m213s\u001b[0m 1s/step - accuracy: 0.5399 - loss: 1.6470 - val_accuracy: 0.5409 - val_loss: 1.6278 - learning_rate: 0.0010\n",
      "Epoch 4/10\n",
      "\u001b[1m179/179\u001b[0m \u001b[32m━━━━━━━━━━━━━━━━━━━━\u001b[0m\u001b[37m\u001b[0m \u001b[1m189s\u001b[0m 1s/step - accuracy: 0.5756 - loss: 1.4530 - val_accuracy: 0.5794 - val_loss: 1.5425 - learning_rate: 0.0010\n",
      "Epoch 5/10\n",
      "\u001b[1m179/179\u001b[0m \u001b[32m━━━━━━━━━━━━━━━━━━━━\u001b[0m\u001b[37m\u001b[0m \u001b[1m214s\u001b[0m 1s/step - accuracy: 0.6034 - loss: 1.3764 - val_accuracy: 0.5815 - val_loss: 1.5000 - learning_rate: 0.0010\n",
      "Epoch 6/10\n",
      "\u001b[1m179/179\u001b[0m \u001b[32m━━━━━━━━━━━━━━━━━━━━\u001b[0m\u001b[37m\u001b[0m \u001b[1m216s\u001b[0m 1s/step - accuracy: 0.6283 - loss: 1.2589 - val_accuracy: 0.5943 - val_loss: 1.4485 - learning_rate: 0.0010\n",
      "Epoch 7/10\n",
      "\u001b[1m179/179\u001b[0m \u001b[32m━━━━━━━━━━━━━━━━━━━━\u001b[0m\u001b[37m\u001b[0m \u001b[1m236s\u001b[0m 1s/step - accuracy: 0.6464 - loss: 1.2017 - val_accuracy: 0.6128 - val_loss: 1.3898 - learning_rate: 0.0010\n",
      "Epoch 8/10\n",
      "\u001b[1m179/179\u001b[0m \u001b[32m━━━━━━━━━━━━━━━━━━━━\u001b[0m\u001b[37m\u001b[0m \u001b[1m210s\u001b[0m 1s/step - accuracy: 0.6818 - loss: 1.1053 - val_accuracy: 0.5879 - val_loss: 1.4434 - learning_rate: 0.0010\n",
      "Epoch 9/10\n",
      "\u001b[1m179/179\u001b[0m \u001b[32m━━━━━━━━━━━━━━━━━━━━\u001b[0m\u001b[37m\u001b[0m \u001b[1m0s\u001b[0m 804ms/step - accuracy: 0.6850 - loss: 1.0445\n",
      "Epoch 9: ReduceLROnPlateau reducing learning rate to 0.0005000000237487257.\n",
      "\u001b[1m179/179\u001b[0m \u001b[32m━━━━━━━━━━━━━━━━━━━━\u001b[0m\u001b[37m\u001b[0m \u001b[1m179s\u001b[0m 1s/step - accuracy: 0.6850 - loss: 1.0446 - val_accuracy: 0.6078 - val_loss: 1.4600 - learning_rate: 0.0010\n",
      "Epoch 10/10\n",
      "\u001b[1m179/179\u001b[0m \u001b[32m━━━━━━━━━━━━━━━━━━━━\u001b[0m\u001b[37m\u001b[0m \u001b[1m202s\u001b[0m 1s/step - accuracy: 0.7055 - loss: 0.9864 - val_accuracy: 0.6228 - val_loss: 1.3723 - learning_rate: 5.0000e-04\n"
     ]
    }
   ],
   "source": [
    "early_stop = EarlyStopping(patience=3, restore_best_weights=True)\n",
    "checkpoint = ModelCheckpoint('best_model.keras', save_best_only=True)\n",
    "reduce_lr = ReduceLROnPlateau(monitor='val_loss', factor=0.5, patience=2, verbose=1)\n",
    "\n",
    "history = model.fit(\n",
    "    train_generator,\n",
    "    epochs=INITIAL_EPOCHS,  # 10\n",
    "    validation_data=val_generator,\n",
    "    callbacks=[early_stop, checkpoint, reduce_lr]\n",
    ")\n"
   ]
  },
  {
   "cell_type": "code",
   "execution_count": 5,
   "metadata": {},
   "outputs": [
    {
     "name": "stdout",
     "output_type": "stream",
     "text": [
      "Epoch 10/20\n",
      "\u001b[1m179/179\u001b[0m \u001b[32m━━━━━━━━━━━━━━━━━━━━\u001b[0m\u001b[37m\u001b[0m \u001b[1m233s\u001b[0m 1s/step - accuracy: 0.7308 - loss: 0.8740 - val_accuracy: 0.6149 - val_loss: 1.3670 - learning_rate: 1.0000e-05\n",
      "Epoch 11/20\n",
      "\u001b[1m179/179\u001b[0m \u001b[32m━━━━━━━━━━━━━━━━━━━━\u001b[0m\u001b[37m\u001b[0m \u001b[1m226s\u001b[0m 1s/step - accuracy: 0.7703 - loss: 0.7836 - val_accuracy: 0.6391 - val_loss: 1.3321 - learning_rate: 1.0000e-05\n",
      "Epoch 12/20\n",
      "\u001b[1m179/179\u001b[0m \u001b[32m━━━━━━━━━━━━━━━━━━━━\u001b[0m\u001b[37m\u001b[0m \u001b[1m214s\u001b[0m 1s/step - accuracy: 0.7729 - loss: 0.7448 - val_accuracy: 0.6349 - val_loss: 1.3163 - learning_rate: 1.0000e-05\n",
      "Epoch 13/20\n",
      "\u001b[1m179/179\u001b[0m \u001b[32m━━━━━━━━━━━━━━━━━━━━\u001b[0m\u001b[37m\u001b[0m \u001b[1m230s\u001b[0m 1s/step - accuracy: 0.7714 - loss: 0.7564 - val_accuracy: 0.6448 - val_loss: 1.2921 - learning_rate: 1.0000e-05\n",
      "Epoch 14/20\n",
      "\u001b[1m179/179\u001b[0m \u001b[32m━━━━━━━━━━━━━━━━━━━━\u001b[0m\u001b[37m\u001b[0m \u001b[1m210s\u001b[0m 1s/step - accuracy: 0.7736 - loss: 0.7422 - val_accuracy: 0.6534 - val_loss: 1.3026 - learning_rate: 1.0000e-05\n",
      "Epoch 15/20\n",
      "\u001b[1m179/179\u001b[0m \u001b[32m━━━━━━━━━━━━━━━━━━━━\u001b[0m\u001b[37m\u001b[0m \u001b[1m216s\u001b[0m 1s/step - accuracy: 0.8003 - loss: 0.6860 - val_accuracy: 0.6598 - val_loss: 1.2534 - learning_rate: 1.0000e-05\n",
      "Epoch 16/20\n",
      "\u001b[1m179/179\u001b[0m \u001b[32m━━━━━━━━━━━━━━━━━━━━\u001b[0m\u001b[37m\u001b[0m \u001b[1m234s\u001b[0m 1s/step - accuracy: 0.7916 - loss: 0.6943 - val_accuracy: 0.6505 - val_loss: 1.2569 - learning_rate: 1.0000e-05\n",
      "Epoch 17/20\n",
      "\u001b[1m179/179\u001b[0m \u001b[32m━━━━━━━━━━━━━━━━━━━━\u001b[0m\u001b[37m\u001b[0m \u001b[1m261s\u001b[0m 1s/step - accuracy: 0.7894 - loss: 0.6658 - val_accuracy: 0.6619 - val_loss: 1.2442 - learning_rate: 1.0000e-05\n",
      "Epoch 18/20\n",
      "\u001b[1m179/179\u001b[0m \u001b[32m━━━━━━━━━━━━━━━━━━━━\u001b[0m\u001b[37m\u001b[0m \u001b[1m247s\u001b[0m 1s/step - accuracy: 0.8028 - loss: 0.6338 - val_accuracy: 0.6477 - val_loss: 1.3210 - learning_rate: 1.0000e-05\n",
      "Epoch 19/20\n",
      "\u001b[1m179/179\u001b[0m \u001b[32m━━━━━━━━━━━━━━━━━━━━\u001b[0m\u001b[37m\u001b[0m \u001b[1m0s\u001b[0m 1s/step - accuracy: 0.8095 - loss: 0.6235\n",
      "Epoch 19: ReduceLROnPlateau reducing learning rate to 4.999999873689376e-06.\n",
      "\u001b[1m179/179\u001b[0m \u001b[32m━━━━━━━━━━━━━━━━━━━━\u001b[0m\u001b[37m\u001b[0m \u001b[1m248s\u001b[0m 1s/step - accuracy: 0.8094 - loss: 0.6235 - val_accuracy: 0.6541 - val_loss: 1.2767 - learning_rate: 1.0000e-05\n",
      "Epoch 20/20\n",
      "\u001b[1m179/179\u001b[0m \u001b[32m━━━━━━━━━━━━━━━━━━━━\u001b[0m\u001b[37m\u001b[0m \u001b[1m241s\u001b[0m 1s/step - accuracy: 0.8236 - loss: 0.5889 - val_accuracy: 0.6683 - val_loss: 1.2233 - learning_rate: 5.0000e-06\n"
     ]
    }
   ],
   "source": [
    "base_model = model.layers[1]  # The MobileNetV2 model\n",
    "unfreeze_layers = int(len(base_model.layers) * 0.2)\n",
    "for layer in base_model.layers[-unfreeze_layers:]:\n",
    "    if not isinstance(layer, tf.keras.layers.BatchNormalization):\n",
    "        layer.trainable = True\n",
    "\n",
    "model.compile(\n",
    "    optimizer=Adam(learning_rate=1e-5),\n",
    "    loss=CategoricalCrossentropy(),\n",
    "    metrics=['accuracy']\n",
    ")\n",
    "\n",
    "history_fine = model.fit(\n",
    "    train_generator,\n",
    "    epochs=TOTAL_EPOCHS,        # 20 total\n",
    "    initial_epoch=history.epoch[-1],\n",
    "    validation_data=val_generator,\n",
    "    callbacks=[early_stop, checkpoint, reduce_lr]\n",
    ")\n",
    "\n",
    "model.save('artist_recognition_model.keras')\n"
   ]
  },
  {
   "cell_type": "code",
   "execution_count": 6,
   "metadata": {},
   "outputs": [
    {
     "name": "stdout",
     "output_type": "stream",
     "text": [
      "\u001b[1m44/44\u001b[0m \u001b[32m━━━━━━━━━━━━━━━━━━━━\u001b[0m\u001b[37m\u001b[0m \u001b[1m40s\u001b[0m 844ms/step - accuracy: 0.6525 - loss: 1.2814\n",
      "\n",
      "Final Model Performance:\n",
      "- Validation Accuracy: 66.69%\n",
      "- Validation Loss: 1.2531\n"
     ]
    },
    {
     "data": {
      "image/png": "[encoded data removed]",
      "text/plain": [
       "<Figure size 1200x400 with 2 Axes>"
      ]
     },
     "metadata": {},
     "output_type": "display_data"
    }
   ],
   "source": [
    "best_model = load_model('best_model.keras')\n",
    "loss, accuracy = best_model.evaluate(val_generator)\n",
    "print(f\"\\nFinal Model Performance:\")\n",
    "print(f\"- Validation Accuracy: {accuracy*100:.2f}%\")\n",
    "print(f\"- Validation Loss: {loss:.4f}\")\n",
    "\n",
    "def plot_training_history(histories):\n",
    "    acc = histories[0].history['accuracy'] + histories[1].history.get('accuracy', [])\n",
    "    val_acc = histories[0].history['val_accuracy'] + histories[1].history.get('val_accuracy', [])\n",
    "    loss_vals = histories[0].history['loss'] + histories[1].history.get('loss', [])\n",
    "    val_loss_vals = histories[0].history['val_loss'] + histories[1].history.get('val_loss', [])\n",
    "    epochs_range = range(1, len(acc) + 1)\n",
    "\n",
    "    plt.figure(figsize=(12, 4))\n",
    "    plt.subplot(1, 2, 1)\n",
    "    plt.plot(epochs_range, acc, label='Train Accuracy')\n",
    "    plt.plot(epochs_range, val_acc, label='Validation Accuracy')\n",
    "    plt.xlabel('Epoch')\n",
    "    plt.ylabel('Accuracy')\n",
    "    plt.legend()\n",
    "\n",
    "    plt.subplot(1, 2, 2)\n",
    "    plt.plot(epochs_range, loss_vals, label='Train Loss')\n",
    "    plt.plot(epochs_range, val_loss_vals, label='Validation Loss')\n",
    "    plt.xlabel('Epoch')\n",
    "    plt.ylabel('Loss')\n",
    "    plt.legend()\n",
    "\n",
    "    plt.tight_layout()\n",
    "    plt.show()\n",
    "\n",
    "plot_training_history([history, history_fine])\n"
   ]
  },
  {
   "cell_type": "code",
   "execution_count": null,
   "metadata": {},
   "outputs": [],
   "source": [
    "class AdvancedArtAnalyzer:\n",
    "    def __init__(self, model_path, csv_path, dataset_dir):\n",
    "        self.model = load_model(model_path)\n",
    "        self.artists_df = pd.read_csv(csv_path)\n",
    "        self.dataset_dir = os.path.abspath(dataset_dir)\n",
    "\n",
    "        self.class_indices = train_generator.class_indices\n",
    "        self.index_to_artist = {v: k for k, v in self.class_indices.items()}\n",
    "\n",
    "        self.metadata = {}\n",
    "        for _, row in self.artists_df.iterrows():\n",
    "            artist = row['name']\n",
    "            self.metadata[artist] = {\n",
    "                'genre': row['genre'],\n",
    "                'nationality': row['nationality'],\n",
    "                'bio': row['bio']\n",
    "            }\n",
    "\n",
    "        self.genre_to_indices = {}\n",
    "        for artist, idx in self.class_indices.items():\n",
    "            genre = self.metadata[artist]['genre']\n",
    "            self.genre_to_indices.setdefault(genre, []).append(idx)\n",
    "\n",
    "    def load_image_any_path(self, path):\n",
    "        \"\"\"Load an image from a local path or a web URL.\"\"\"\n",
    "        if path.startswith('http://') or path.startswith('https://'):\n",
    "            import requests\n",
    "            from io import BytesIO\n",
    "            response = requests.get(path)\n",
    "            response.raise_for_status()\n",
    "            image_data = BytesIO(response.content)\n",
    "            pil_img = Image.open(image_data).convert('RGB')\n",
    "        else:\n",
    "            pil_img = Image.open(path).convert('RGB')\n",
    "        return pil_img\n",
    "\n",
    "    def analyze_image(self, path):\n",
    "        pil_img = self.load_image_any_path(path)\n",
    "        pil_img = pil_img.resize(IMG_SIZE)\n",
    "        img_array = img_to_array(pil_img) / 255.0\n",
    "        img_array = np.expand_dims(img_array, axis=0)\n",
    "\n",
    "        preds = self.model.predict(img_array)[0]\n",
    "\n",
    "        abs_path = os.path.abspath(path)\n",
    "        if abs_path.startswith(self.dataset_dir):\n",
    "            predicted_index = np.argmax(preds)\n",
    "            predicted_artist = self.index_to_artist[predicted_index]\n",
    "            confidence = preds[predicted_index] * 100\n",
    "            meta = self.metadata[predicted_artist]\n",
    "            return {\n",
    "                'pil_img': pil_img,\n",
    "                'artist': predicted_artist,\n",
    "                'genre': meta['genre'],\n",
    "                'nationality': meta['nationality'],\n",
    "                'confidence': f\"{confidence:.1f}%\",\n",
    "                'bio': meta['bio'][:200] + '...'\n",
    "            }\n",
    "        else:\n",
    "            genre_scores = {}\n",
    "            for genre, indices in self.genre_to_indices.items():\n",
    "                genre_scores[genre] = sum(preds[i] for i in indices)\n",
    "            predicted_genre = max(genre_scores, key=genre_scores.get)\n",
    "            confidence = genre_scores[predicted_genre] * 100\n",
    "            return {\n",
    "                'pil_img': pil_img,\n",
    "                'genre': predicted_genre,\n",
    "                'confidence': f\"{confidence:.1f}%\"\n",
    "            }\n"
   ]
  },
  {
   "cell_type": "code",
   "execution_count": 1,
   "metadata": {},
   "outputs": [
    {
     "ename": "NameError",
     "evalue": "name 'AdvancedArtAnalyzer' is not defined",
     "output_type": "error",
     "traceback": [
      "\u001b[1;31m---------------------------------------------------------------------------\u001b[0m",
      "\u001b[1;31mNameError\u001b[0m                                 Traceback (most recent call last)",
      "Cell \u001b[1;32mIn[1], line 103\u001b[0m\n\u001b[0;32m     98\u001b[0m     root\u001b[38;5;241m.\u001b[39mmainloop()\n\u001b[0;32m    101\u001b[0m \u001b[38;5;28;01mif\u001b[39;00m \u001b[38;5;18m__name__\u001b[39m \u001b[38;5;241m==\u001b[39m \u001b[38;5;124m\"\u001b[39m\u001b[38;5;124m__main__\u001b[39m\u001b[38;5;124m\"\u001b[39m:\n\u001b[0;32m    102\u001b[0m     \u001b[38;5;66;03m# After training completes, we can launch the GUI\u001b[39;00m\n\u001b[1;32m--> 103\u001b[0m     \u001b[43mlaunch_gui\u001b[49m\u001b[43m(\u001b[49m\u001b[43m)\u001b[49m\n",
      "Cell \u001b[1;32mIn[1], line 2\u001b[0m, in \u001b[0;36mlaunch_gui\u001b[1;34m()\u001b[0m\n\u001b[0;32m      1\u001b[0m \u001b[38;5;28;01mdef\u001b[39;00m \u001b[38;5;21mlaunch_gui\u001b[39m():\n\u001b[1;32m----> 2\u001b[0m     analyzer \u001b[38;5;241m=\u001b[39m \u001b[43mAdvancedArtAnalyzer\u001b[49m(\u001b[38;5;124m'\u001b[39m\u001b[38;5;124mbest_model.keras\u001b[39m\u001b[38;5;124m'\u001b[39m, CSV_PATH, DATA_DIR)\n\u001b[0;32m      4\u001b[0m     root \u001b[38;5;241m=\u001b[39m tk\u001b[38;5;241m.\u001b[39mTk()\n\u001b[0;32m      5\u001b[0m     root\u001b[38;5;241m.\u001b[39mtitle(\u001b[38;5;124m\"\u001b[39m\u001b[38;5;124mBeautiful Art Recognition System (Local + URL)\u001b[39m\u001b[38;5;124m\"\u001b[39m)\n",
      "\u001b[1;31mNameError\u001b[0m: name 'AdvancedArtAnalyzer' is not defined"
     ]
    }
   ],
   "source": [
    "def launch_gui():\n",
    "    analyzer = AdvancedArtAnalyzer('best_model.keras', CSV_PATH, DATA_DIR)\n",
    "\n",
    "    root = tk.Tk()\n",
    "    root.title(\"Beautiful Art Recognition System (Local + URL)\")\n",
    "    root.geometry(\"800x600\")\n",
    "\n",
    "    # Title Label\n",
    "    title_label = tk.Label(root, text=\"Art Recognition System\", font=(\"Arial\", 16, \"bold\"))\n",
    "    title_label.pack(pady=10)\n",
    "\n",
    "    # Info Label\n",
    "    info_label = tk.Label(root, text=\"Paste a local path or web URL to an image, or browse a local file.\\nThen click 'Analyze Painting'.\",\n",
    "                          font=(\"Arial\", 11), wraplength=700)\n",
    "    info_label.pack(pady=5)\n",
    "\n",
    "    # Path Frame\n",
    "    path_frame = tk.Frame(root)\n",
    "    path_frame.pack(pady=5)\n",
    "\n",
    "    path_label = tk.Label(path_frame, text=\"Image Path/URL:\", font=(\"Arial\", 10))\n",
    "    path_label.pack(side=\"left\", padx=5)\n",
    "\n",
    "    path_var = tk.StringVar()\n",
    "    path_entry = tk.Entry(path_frame, textvariable=path_var, width=60, font=(\"Arial\", 10))\n",
    "    path_entry.pack(side=\"left\", padx=5)\n",
    "\n",
    "    def browse_file():\n",
    "        filename = filedialog.askopenfilename(title=\"Select an Image\")\n",
    "        if filename:\n",
    "            path_var.set(filename)\n",
    "\n",
    "    browse_btn = tk.Button(path_frame, text=\"Browse\", command=browse_file,\n",
    "                           bg=\"#2196F3\", fg=\"white\", font=(\"Arial\", 10))\n",
    "    browse_btn.pack(side=\"left\")\n",
    "\n",
    "    # Image Display Label\n",
    "    image_label = tk.Label(root, bg=\"white\")\n",
    "    image_label.pack(pady=10)\n",
    "\n",
    "    # Result Text\n",
    "    result_text = tk.Text(root, height=10, width=80, font=(\"Arial\", 10), wrap=\"word\")\n",
    "    result_text.pack(pady=10)\n",
    "\n",
    "    def analyze_painting():\n",
    "        path = path_var.get().strip()\n",
    "        if not path:\n",
    "            messagebox.showerror(\"Error\", \"Please enter or select an image path/URL.\")\n",
    "            return\n",
    "        try:\n",
    "            results = analyzer.analyze_image(path)\n",
    "\n",
    "            # Clear previous results\n",
    "            result_text.delete(\"1.0\", tk.END)\n",
    "\n",
    "            # Display the image\n",
    "            pil_img = results['pil_img']\n",
    "            # For big images, thumbnail it\n",
    "            disp_img = pil_img.copy()\n",
    "            disp_img.thumbnail((300, 300))\n",
    "            tk_img = ImageTk.PhotoImage(disp_img)\n",
    "            image_label.config(image=tk_img)\n",
    "            image_label.image = tk_img\n",
    "\n",
    "            # Display results\n",
    "            if 'artist' in results:\n",
    "                # Known dataset painting\n",
    "                output = (f\"Artist: {results['artist']}\\n\"\n",
    "                          f\"Nationality: {results['nationality']}\\n\"\n",
    "                          f\"Genre: {results['genre']}\\n\"\n",
    "                          f\"Confidence: {results['confidence']}\\n\"\n",
    "                          f\"Bio: {results['bio']}\")\n",
    "            else:\n",
    "                # External painting\n",
    "                output = (f\"Predicted Genre: {results['genre']}\\n\"\n",
    "                          f\"Confidence: {results['confidence']}\")\n",
    "\n",
    "            result_text.insert(tk.END, output)\n",
    "\n",
    "        except Exception as e:\n",
    "            messagebox.showerror(\"Error\", f\"Failed to analyze image:\\n{e}\")\n",
    "\n",
    "    # Button Frame\n",
    "    btn_frame = tk.Frame(root)\n",
    "    btn_frame.pack(pady=10)\n",
    "\n",
    "    analyze_btn = tk.Button(btn_frame, text=\"Analyze Painting\", command=analyze_painting,\n",
    "                            bg=\"#4CAF50\", fg=\"white\", font=(\"Arial\", 12), padx=10, pady=5)\n",
    "    analyze_btn.pack(side=\"left\", padx=5)\n",
    "\n",
    "    def exit_app():\n",
    "        root.destroy()\n",
    "\n",
    "    exit_btn = tk.Button(btn_frame, text=\"Exit\", command=exit_app,\n",
    "                         bg=\"red\", fg=\"white\", font=(\"Arial\", 12), padx=10, pady=5)\n",
    "    exit_btn.pack(side=\"left\", padx=5)\n",
    "\n",
    "    root.mainloop()\n",
    "\n",
    "\n",
    "if __name__ == \"__main__\":\n",
    "    # After training completes, we can launch the GUI\n",
    "    launch_gui()\n"
   ]
  }
 ],
 "metadata": {
  "kernelspec": {
   "display_name": "Python 3",
   "language": "python",
   "name": "python3"
  },
  "language_info": {
   "codemirror_mode": {
    "name": "ipython",
    "version": 3
   },
   "file_extension": ".py",
   "mimetype": "text/x-python",
   "name": "python",
   "nbconvert_exporter": "python",
   "pygments_lexer": "ipython3",
   "version": "3.12.3"
  }
 },
 "nbformat": 4,
 "nbformat_minor": 2
}
